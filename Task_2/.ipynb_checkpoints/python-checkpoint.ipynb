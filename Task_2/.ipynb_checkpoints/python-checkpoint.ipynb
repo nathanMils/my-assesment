{
 "cells": [
  {
   "cell_type": "code",
   "execution_count": 10,
   "metadata": {},
   "outputs": [
    {
     "data": {
      "text/plain": [
       "<module 'Python' from '/app/Task_2/Python.py'>"
      ]
     },
     "execution_count": 10,
     "metadata": {},
     "output_type": "execute_result"
    }
   ],
   "source": [
    "import os\n",
    "import importlib\n",
    "import pandas as pd\n",
    "import Python as py\n",
    "import numpy as np\n",
    "importlib.reload(py)"
   ]
  },
  {
   "cell_type": "code",
   "execution_count": 18,
   "metadata": {},
   "outputs": [],
   "source": [
    "root = os.getcwd()\n",
    "df_scheduled = pd.read_csv(root + \"/data/scheduled_loan_repayments.csv\")\n",
    "df_actual = pd.read_csv(root + \"/data/actual_loan_repayments.csv\")\n",
    "df_balances = py.calculate_df_balances(df_scheduled, df_actual)"
   ]
  },
  {
   "cell_type": "markdown",
   "metadata": {},
   "source": [
    "# Question 1"
   ]
  },
  {
   "cell_type": "code",
   "execution_count": 4,
   "metadata": {},
   "outputs": [
    {
     "data": {
      "text/plain": [
       "15.0"
      ]
     },
     "execution_count": 4,
     "metadata": {},
     "output_type": "execute_result"
    }
   ],
   "source": [
    "def question_1(df_balances):\n",
    "    \"\"\"\n",
    "    Calculate the percent of loans that defaulted as per the type 1 default definition.\n",
    "\n",
    "    Args:\n",
    "        df_balances (DataFrame): Dataframe created from the 'calculate_df_balances()' function\n",
    "\n",
    "    Returns:\n",
    "        float: The percentage of type 1 defaulted loans (ie 50.0 not 0.5)\n",
    "\n",
    "    \"\"\"\n",
    "    \n",
    "    \n",
    "    def check_repayments(group):\n",
    "        \"\"\"\n",
    "        Check if there was any missed repayment in the loan's history.\n",
    "\n",
    "        A loan is flagged as defaulted (type 1) if at least one row has ActualRepayment < ScheduledRepayment.\n",
    "\n",
    "        Args:\n",
    "            group (DataFrame): A group of repayments for a single loan (LoanID).\n",
    "\n",
    "        Returns:\n",
    "            bool: True if defaulted, False otherwise.\n",
    "        \"\"\"\n",
    "        return (group['ActualRepayment'] < group['ScheduledRepayment']).any()\n",
    "\n",
    "    # Apply loan default type 1 check to each set of repayments for each loan\n",
    "    df = df_balances.groupby('LoanID').apply(check_repayments, include_groups=False)\n",
    "    \n",
    "    # Calculate default type 1 rate as percentage\n",
    "    default_rate_percent = df.mean()*100\n",
    "\n",
    "    return default_rate_percent\n",
    "\n",
    "question_1(df_balances)"
   ]
  },
  {
   "cell_type": "markdown",
   "metadata": {},
   "source": [
    "# Question 2"
   ]
  },
  {
   "cell_type": "code",
   "execution_count": 5,
   "metadata": {},
   "outputs": [
    {
     "data": {
      "text/plain": [
       "1.2"
      ]
     },
     "execution_count": 5,
     "metadata": {},
     "output_type": "execute_result"
    }
   ],
   "source": [
    "def question_2(df_scheduled, df_balances):\n",
    "    \"\"\"\n",
    "    Calculate the percent of loans that defaulted as per the type 2 default definition\n",
    "\n",
    "    Args:\n",
    "        df_balances (DataFrame): Dataframe created from the 'calculate_df_balances()' function\n",
    "        df_scheduled (DataFrame): Dataframe created from the 'scheduled_loan_repayments.csv' dataset\n",
    "\n",
    "    Returns:\n",
    "        float: The percentage of type 2 defaulted loans (ie 50.0 not 0.5)\n",
    "\n",
    "    \"\"\"\n",
    "\n",
    "    # Calculate the total repayment required per loan per year (monthly payment * 12)\n",
    "    scheduled_total = df_scheduled.groupby('LoanID')['ScheduledRepayment'].first() * 12 # 12 months in a year\n",
    "\n",
    "    # Calculate the actual repayment for each loan (there are only 12 months represented in the data)\n",
    "    actual_total = df_balances.groupby('LoanID')['ActualRepayment'].sum() # Total payments\n",
    "\n",
    "    # Calculate the difference\n",
    "    unpaid = scheduled_total - actual_total\n",
    "\n",
    "    # Clip instances where actual payment exceeded scheduled - overpayed\n",
    "    unpaid = unpaid.clip(lower=0)\n",
    "\n",
    "    # Calculate for each loan the percentage unpaid\n",
    "    unpaid_percentage = (unpaid / scheduled_total) * 100\n",
    "\n",
    "    # Identify defaulted loans (Type 2) (unpaid > 15%)\n",
    "    default = unpaid_percentage > 15\n",
    "\n",
    "    # Calculate default type 2 rate as percentage\n",
    "    default_rate_percent = default.mean() * 100\n",
    "\n",
    "    return default_rate_percent\n",
    "\n",
    "question_2(df_scheduled,df_balances)"
   ]
  },
  {
   "cell_type": "markdown",
   "metadata": {},
   "source": [
    "# Question 3"
   ]
  },
  {
   "cell_type": "code",
   "execution_count": 32,
   "metadata": {},
   "outputs": [
    {
     "data": {
      "text/plain": [
       "-229010586008.01517"
      ]
     },
     "execution_count": 32,
     "metadata": {},
     "output_type": "execute_result"
    }
   ],
   "source": [
    "def question_3(df_balances):\n",
    "    \"\"\"\n",
    "    Calculate the anualized portfolio CPR (As a %) from the geometric mean SMM.\n",
    "    SMM is calculated as: (Unscheduled Principal)/(Start of Month Loan Balance)\n",
    "    SMM_mean is calculated as (∏(1+SMM))^(1/12) - 1\n",
    "    CPR is calcualted as: 1 - (1- SMM_mean)^12\n",
    "\n",
    "    Definitions: (Had Homework to do) from: https://www.investopedia.com/terms/a/amortization.asp\n",
    "    Unscheduled principal refers to any amount paid towards the principal balance of a loan that exceeds the regular, scheduled payments. \n",
    "    Scheduled Principal: This is the regular monthly payment of principal that a borrower is required to make according to the loan agreement. \n",
    "    Unscheduled Principal: This is any additional amount paid towards the principal balance beyond the scheduled payment.\n",
    "    Principle Balance: The principal balance of a loan is the outstanding amount of money you still owe, excluding interest and fees\n",
    "\n",
    "    To calculate Unsheduled Principle:\n",
    "    1. Identify the Scheduled Principal:\n",
    "    This is the regular, required amount of principal that the borrower is obligated to pay each month. - ScheduledRepayment\n",
    "    2. Identify the Actual Principal Paid:\n",
    "    This is the total amount of principal paid in the period, including any extra amounts paid beyond the scheduled amount. \n",
    "    3. Calculate the Unscheduled Principal:\n",
    "    Subtract the scheduled principal from the actual principal paid.\n",
    "\n",
    "    Args:\n",
    "        df_balances (DataFrame): Dataframe created from the 'calculate_df_balances()' function\n",
    "\n",
    "    Returns:\n",
    "        float: The anualized CPR of the loan portfolio as a percent.\n",
    "\n",
    "    \"\"\"\n",
    "    # Copying df_balances to a different frame\n",
    "    df = df_balances.copy()\n",
    "\n",
    "    # Principal Payment = Total Monthly Payment - (Outstanding Loan Balance * (Interest Rate / 12)) => InterestPayment\n",
    "    df['PrincipalPayment'] = df['ActualRepayment'] - df['InterestPayment']\n",
    "\n",
    "    # Payment towards interest is included in the sheduled montly payment\n",
    "    # Scheduled principal = scheduled total repayment - interest portion\n",
    "    df['ScheduledPrincipal'] = df['ScheduledRepayment'] - df['InterestPayment']\n",
    "\n",
    "    # Unscheduled principal = any additional payment towards principal\n",
    "    df['UnscheduledPrincipal'] = df['PrincipalPayment'] - df['ScheduledPrincipal']\n",
    "\n",
    "    # Calculate SMM\n",
    "    df['SMM'] = df['UnscheduledPrincipal'] / df['LoanBalanceStart']\n",
    "\n",
    "    # Calculate geometric mean of (1 + SMM)\n",
    "    smm_product = (1 + df['SMM']).prod()\n",
    "\n",
    "    smm_mean = smm_product ** (1 / 12) - 1\n",
    "\n",
    "    # Calculate CPR as annualized prepayment rate\n",
    "    cpr = 1 - (1 - smm_mean) ** 12\n",
    "    cpr_percent = cpr * 100\n",
    "\n",
    "    return cpr_percent\n",
    "\n",
    "question_3(df_balances)"
   ]
  },
  {
   "cell_type": "markdown",
   "metadata": {},
   "source": [
    "# Question 4"
   ]
  },
  {
   "cell_type": "code",
   "execution_count": 36,
   "metadata": {},
   "outputs": [
    {
     "data": {
      "text/plain": [
       "979573.1690999997"
      ]
     },
     "execution_count": 36,
     "metadata": {},
     "output_type": "execute_result"
    }
   ],
   "source": [
    "def question_4(df_balances):\n",
    "    \"\"\"\n",
    "    Calculate the predicted total loss for the second year in the loan term.\n",
    "    Use the equation: probability_of_default * total_loan_balance * (1 - recovery_rate).\n",
    "    The probability_of_default value must be taken from either your question_1 or question_2 answer.\n",
    "    Decide between the two answers based on which default definition you believe to be the more useful metric.\n",
    "    Assume a recovery rate of 80%\n",
    "\n",
    "    Definitions: (More homework)\n",
    "    Recovery Rate: The recovery rate is the principal and accrued interest on defaulted debt that can be recovered, expressed as a percentage of face value.\n",
    "    Loan Balance: The total loan balance refers to the unpaid principal amount of a loan plus any accrued interest and other fees.\n",
    "\n",
    "    Args:\n",
    "        df_balances (DataFrame): Dataframe created from the 'calculate_df_balances()' function\n",
    "\n",
    "    Returns:\n",
    "        float: The predicted total loss for the second year in the loan term.\n",
    "\n",
    "    \"\"\"\n",
    "\n",
    "    default_percentage = question_1(df_balances)/100\n",
    "\n",
    "    total_balances = (df_balances.groupby('LoanID')['LoanBalanceEnd'].last()).sum()\n",
    "\n",
    "    total_loss = default_percentage * total_balances * (1-0.8)\n",
    "\n",
    "    return total_loss\n",
    "\n",
    "\n",
    "question_4(df_balances)"
   ]
  },
  {
   "cell_type": "code",
   "execution_count": null,
   "metadata": {},
   "outputs": [],
   "source": []
  }
 ],
 "metadata": {
  "kernelspec": {
   "display_name": "Python 3 (ipykernel)",
   "language": "python",
   "name": "python3"
  },
  "language_info": {
   "codemirror_mode": {
    "name": "ipython",
    "version": 3
   },
   "file_extension": ".py",
   "mimetype": "text/x-python",
   "name": "python",
   "nbconvert_exporter": "python",
   "pygments_lexer": "ipython3",
   "version": "3.10.17"
  }
 },
 "nbformat": 4,
 "nbformat_minor": 4
}
