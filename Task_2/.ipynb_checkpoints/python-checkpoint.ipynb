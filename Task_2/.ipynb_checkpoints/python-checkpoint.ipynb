{
 "cells": [
  {
   "cell_type": "code",
   "execution_count": 22,
   "metadata": {},
   "outputs": [],
   "source": [
    "import os\n",
    "import importlib\n",
    "import pandas as pd\n",
    "import Python as py\n",
    "\n",
    "importlib.reload(py)"
   ]
  },
  {
   "cell_type": "code",
   "execution_count": 23,
   "metadata": {},
   "outputs": [],
   "source": [
    "root = os.getcwd()\n",
    "df_scheduled = pd.read_csv(root + \"/data/scheduled_loan_repayments.csv\")\n",
    "df_actual = pd.read_csv(root + \"/data/actual_loan_repayments.csv\")\n",
    "df_balances = py.calculate_df_balances(df_scheduled, df_actual)"
   ]
  },
  {
   "cell_type": "markdown",
   "metadata": {},
   "source": [
    "# Question 1"
   ]
  },
  {
   "cell_type": "code",
   "execution_count": 24,
   "metadata": {},
   "outputs": [
    {
     "name": "stdout",
     "output_type": "stream",
     "text": [
      "   RepaymentID  LoanID  Month  ActualRepayment  LoanAmount  \\\n",
      "0        544.0       1      1          2399.54     52000.0   \n",
      "1       1313.0       1      2          2399.54     52000.0   \n",
      "2       2551.0       1      3          2399.54     52000.0   \n",
      "3       3636.0       1      4          2399.54     52000.0   \n",
      "4       4300.0       1      5          2399.54     52000.0   \n",
      "\n",
      "   ScheduledRepayment  LoanBalanceStart  LoanBalanceEnd  InterestPayment  \n",
      "0             2399.54          52000.00        50033.79           433.33  \n",
      "1             2399.54          50033.79        48051.20           416.95  \n",
      "2             2399.54          48051.20        46052.09           400.43  \n",
      "3             2399.54          46052.09        44036.32           383.77  \n",
      "4             2399.54          44036.32        42003.74           366.97  \n"
     ]
    },
    {
     "data": {
      "text/plain": [
       "0"
      ]
     },
     "execution_count": 24,
     "metadata": {},
     "output_type": "execute_result"
    }
   ],
   "source": [
    "py.question_1(df_balances)"
   ]
  },
  {
   "cell_type": "code",
   "execution_count": null,
   "metadata": {},
   "outputs": [],
   "source": []
  }
 ],
 "metadata": {
  "kernelspec": {
   "display_name": "Python 3 (ipykernel)",
   "language": "python",
   "name": "python3"
  },
  "language_info": {
   "codemirror_mode": {
    "name": "ipython",
    "version": 3
   },
   "file_extension": ".py",
   "mimetype": "text/x-python",
   "name": "python",
   "nbconvert_exporter": "python",
   "pygments_lexer": "ipython3",
   "version": "3.10.17"
  }
 },
 "nbformat": 4,
 "nbformat_minor": 4
}
