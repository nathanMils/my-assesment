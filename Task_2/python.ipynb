{
 "cells": [
  {
   "cell_type": "code",
   "execution_count": 22,
   "metadata": {},
   "outputs": [],
   "source": [
    "import os\n",
    "import importlib\n",
    "import pandas as pd\n",
    "import Python as py\n",
    "\n",
    "importlib.reload(py)"
   ]
  },
  {
   "cell_type": "code",
   "execution_count": 23,
   "metadata": {},
   "outputs": [],
   "source": [
    "root = os.getcwd()\n",
    "df_scheduled = pd.read_csv(root + \"/data/scheduled_loan_repayments.csv\")\n",
    "df_actual = pd.read_csv(root + \"/data/actual_loan_repayments.csv\")\n",
    "df_balances = py.calculate_df_balances(df_scheduled, df_actual)"
   ]
  },
  {
   "cell_type": "markdown",
   "metadata": {},
   "source": [
    "# Question 1"
   ]
  },
  {
   "cell_type": "code",
   "execution_count": null,
   "metadata": {},
   "outputs": [
    {
     "data": {
      "text/plain": [
       "15.0"
      ]
     },
     "execution_count": 40,
     "metadata": {},
     "output_type": "execute_result"
    }
   ],
   "source": [
    "def question_1(df_balances):\n",
    "    \"\"\"\n",
    "    Calculate the percent of loans that defaulted as per the type 1 default definition.\n",
    "\n",
    "    Args:\n",
    "        df_balances (DataFrame): Dataframe created from the 'calculate_df_balances()' function\n",
    "\n",
    "    Returns:\n",
    "        float: The percentage of type 1 defaulted loans (ie 50.0 not 0.5)\n",
    "\n",
    "    \"\"\"\n",
    "    \n",
    "    \n",
    "    def check_repayments(group):\n",
    "        \"\"\"\n",
    "        Check if there was any missed repayment in the loan's history.\n",
    "\n",
    "        A loan is flagged as defaulted (type 1) if at least one row has ActualRepayment < ScheduledRepayment.\n",
    "\n",
    "        Args:\n",
    "            group (DataFrame): A group of repayments for a single loan (LoanID).\n",
    "\n",
    "        Returns:\n",
    "            bool: True if defaulted, False otherwise.\n",
    "        \"\"\"\n",
    "        return (group['ActualRepayment'] < group['ScheduledRepayment']).any()\n",
    "\n",
    "    # Apply loan default type 1 check to each set of repayments for each loan\n",
    "    df = df_balances.groupby('LoanID').apply(check_repayments, include_groups=False)\n",
    "    \n",
    "    # Calculate default type 1 rate as percentage\n",
    "    default_rate_percent = df.mean()*100\n",
    "\n",
    "    return default_rate_percent"
   ]
  },
  {
   "cell_type": "markdown",
   "metadata": {},
   "source": [
    "# Question 2"
   ]
  },
  {
   "cell_type": "code",
   "execution_count": null,
   "metadata": {},
   "outputs": [
    {
     "data": {
      "text/plain": [
       "1.2"
      ]
     },
     "execution_count": 60,
     "metadata": {},
     "output_type": "execute_result"
    }
   ],
   "source": [
    "def question_2(df_scheduled, df_balances):\n",
    "    \"\"\"\n",
    "    Calculate the percent of loans that defaulted as per the type 2 default definition\n",
    "\n",
    "    Args:\n",
    "        df_balances (DataFrame): Dataframe created from the 'calculate_df_balances()' function\n",
    "        df_scheduled (DataFrame): Dataframe created from the 'scheduled_loan_repayments.csv' dataset\n",
    "\n",
    "    Returns:\n",
    "        float: The percentage of type 2 defaulted loans (ie 50.0 not 0.5)\n",
    "\n",
    "    \"\"\"\n",
    "\n",
    "    # Calculate the total repayment required per loan per year (monthly payment * 12)\n",
    "    scheduled_total = df_scheduled.groupby('LoanID')['ScheduledRepayment'].first() * 12 # 12 months in a year\n",
    "\n",
    "    # Calculate the actual repayment for each loan (there are only 12 months represented in the data)\n",
    "    actual_total = df_balances.groupby('LoanID')['ActualRepayment'].sum() # Total payments\n",
    "\n",
    "    # Calculate the difference\n",
    "    unpaid = scheduled_total - actual_total\n",
    "\n",
    "    # Clip instances where actual payment exceeded scheduled - overpayed\n",
    "    unpaid = unpaid.clip(lower=0)\n",
    "\n",
    "    # Calculate for each loan the percentage unpaid\n",
    "    unpaid_percentage = (unpaid / scheduled_total) * 100\n",
    "\n",
    "    # Identify defaulted loans (Type 2) (unpaid > 15%)\n",
    "    default = unpaid_percentage > 15\n",
    "\n",
    "    # Calculate default type 2 rate as percentage\n",
    "    default_rate_percent = default.mean() * 100\n",
    "\n",
    "    return default_rate_percent\n",
    "\n",
    "question_2(df_scheduled,df_balances)"
   ]
  },
  {
   "cell_type": "markdown",
   "metadata": {},
   "source": [
    "# Question 3"
   ]
  },
  {
   "cell_type": "code",
   "execution_count": null,
   "metadata": {},
   "outputs": [],
   "source": [
    "def question_3(df_balances):\n",
    "    \"\"\"\n",
    "    Calculate the anualized portfolio CPR (As a %) from the geometric mean SMM.\n",
    "    SMM is calculated as: (Unscheduled Principal)/(Start of Month Loan Balance)\n",
    "    SMM_mean is calculated as (∏(1+SMM))^(1/12) - 1\n",
    "    CPR is calcualted as: 1 - (1- SMM_mean)^12\n",
    "\n",
    "    Args:\n",
    "        df_balances (DataFrame): Dataframe created from the 'calculate_df_balances()' function\n",
    "\n",
    "    Returns:\n",
    "        float: The anualized CPR of the loan portfolio as a percent.\n",
    "\n",
    "    \"\"\"\n",
    "\n",
    "    # A conditional prepayment rate (CPR) is an estimate of the percentage of a loan pool's principal that is likely to be paid off prematurely.\n",
    "\n",
    "    return cpr_percent"
   ]
  }
 ],
 "metadata": {
  "kernelspec": {
   "display_name": "Python 3 (ipykernel)",
   "language": "python",
   "name": "python3"
  },
  "language_info": {
   "codemirror_mode": {
    "name": "ipython",
    "version": 3
   },
   "file_extension": ".py",
   "mimetype": "text/x-python",
   "name": "python",
   "nbconvert_exporter": "python",
   "pygments_lexer": "ipython3",
   "version": "3.10.17"
  }
 },
 "nbformat": 4,
 "nbformat_minor": 4
}
