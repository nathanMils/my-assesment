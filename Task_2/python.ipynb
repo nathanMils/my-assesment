{
 "cells": [
  {
   "cell_type": "code",
   "execution_count": 21,
   "metadata": {},
   "outputs": [
    {
     "data": {
      "text/plain": [
       "<module 'Python' from '/app/Task_2/Python.py'>"
      ]
     },
     "execution_count": 21,
     "metadata": {},
     "output_type": "execute_result"
    }
   ],
   "source": [
    "import os\n",
    "import importlib\n",
    "import pandas as pd\n",
    "import Python as py\n",
    "import numpy as np\n",
    "importlib.reload(py)"
   ]
  },
  {
   "cell_type": "code",
   "execution_count": 22,
   "metadata": {},
   "outputs": [],
   "source": [
    "root = os.getcwd()\n",
    "df_scheduled = pd.read_csv(root + \"/data/scheduled_loan_repayments.csv\")\n",
    "df_actual = pd.read_csv(root + \"/data/actual_loan_repayments.csv\")\n",
    "df_balances = py.calculate_df_balances(df_scheduled, df_actual)"
   ]
  },
  {
   "cell_type": "markdown",
   "metadata": {},
   "source": [
    "# Question 1"
   ]
  },
  {
   "cell_type": "code",
   "execution_count": 15,
   "metadata": {},
   "outputs": [
    {
     "data": {
      "text/plain": [
       "15.0"
      ]
     },
     "execution_count": 15,
     "metadata": {},
     "output_type": "execute_result"
    }
   ],
   "source": [
    "def question_1(df_balances):\n",
    "    \"\"\"\n",
    "    Calculate the percent of loans that defaulted as per the type 1 default definition.\n",
    "\n",
    "    Args:\n",
    "        df_balances (DataFrame): Dataframe created from the 'calculate_df_balances()' function\n",
    "\n",
    "    Returns:\n",
    "        float: The percentage of type 1 defaulted loans (ie 50.0 not 0.5)\n",
    "\n",
    "    \"\"\"\n",
    "    \n",
    "    \n",
    "    def check_repayments(group):\n",
    "        \"\"\"\n",
    "        Check if there was any missed repayment in the loan's history.\n",
    "\n",
    "        A loan is flagged as defaulted (type 1) if at least one row has ActualRepayment < ScheduledRepayment.\n",
    "\n",
    "        Args:\n",
    "            group (DataFrame): A group of repayments for a single loan (LoanID).\n",
    "\n",
    "        Returns:\n",
    "            bool: True if defaulted, False otherwise.\n",
    "        \"\"\"\n",
    "        return (group['ActualRepayment'] < group['ScheduledRepayment']).any()\n",
    "\n",
    "    # Apply loan default type 1 check to each set of repayments for each loan\n",
    "    df = df_balances.groupby('LoanID').apply(check_repayments, include_groups=False)\n",
    "    \n",
    "    # Calculate default type 1 rate as percentage\n",
    "    default_rate_percent = df.mean()*100\n",
    "\n",
    "    return default_rate_percent\n",
    "\n",
    "question_1(df_balances)"
   ]
  },
  {
   "cell_type": "markdown",
   "metadata": {},
   "source": [
    "# Question 2"
   ]
  },
  {
   "cell_type": "code",
   "execution_count": 18,
   "metadata": {},
   "outputs": [
    {
     "name": "stdout",
     "output_type": "stream",
     "text": [
      "LoanID\n",
      "1       2399.54\n",
      "2       5306.67\n",
      "3       4199.19\n",
      "4       3553.16\n",
      "5       1338.20\n",
      "         ...   \n",
      "996     1015.19\n",
      "997     5122.09\n",
      "998     1245.91\n",
      "999     5306.67\n",
      "1000    2768.70\n",
      "Name: ScheduledRepayment, Length: 1000, dtype: float64\n"
     ]
    },
    {
     "data": {
      "text/plain": [
       "1.2"
      ]
     },
     "execution_count": 18,
     "metadata": {},
     "output_type": "execute_result"
    }
   ],
   "source": [
    "def question_2(df_scheduled, df_balances):\n",
    "    \"\"\"\n",
    "    Calculate the percent of loans that defaulted as per the type 2 default definition\n",
    "\n",
    "    Args:\n",
    "        df_balances (DataFrame): Dataframe created from the 'calculate_df_balances()' function\n",
    "        df_scheduled (DataFrame): Dataframe created from the 'scheduled_loan_repayments.csv' dataset\n",
    "\n",
    "    Returns:\n",
    "        float: The percentage of type 2 defaulted loans (ie 50.0 not 0.5)\n",
    "\n",
    "    \"\"\"\n",
    "\n",
    "    # Calculate the total repayment required per loan per year (monthly payment * 12)\n",
    "    scheduled_total = df_scheduled.groupby('LoanID')['ScheduledRepayment'].first() * 12 # 12 months in a year\n",
    "\n",
    "    print(df_scheduled.groupby('LoanID')['ScheduledRepayment'].first())\n",
    "\n",
    "    # Calculate the actual repayment for each loan (there are only 12 months represented in the data)\n",
    "    actual_total = df_balances.groupby('LoanID')['ActualRepayment'].sum() # Total payments\n",
    "\n",
    "    # Calculate the difference\n",
    "    unpaid = scheduled_total - actual_total\n",
    "\n",
    "    # Clip instances where actual payment exceeded scheduled - overpayed\n",
    "    unpaid = unpaid.clip(lower=0)\n",
    "\n",
    "    # Calculate for each loan the percentage unpaid\n",
    "    unpaid_percentage = (unpaid / scheduled_total) * 100\n",
    "\n",
    "    # Identify defaulted loans (Type 2) (unpaid > 15%)\n",
    "    default = unpaid_percentage > 15\n",
    "\n",
    "    # Calculate default type 2 rate as percentage\n",
    "    default_rate_percent = default.mean() * 100\n",
    "\n",
    "    return default_rate_percent\n",
    "\n",
    "question_2(df_scheduled,df_balances)"
   ]
  },
  {
   "cell_type": "markdown",
   "metadata": {},
   "source": [
    "# Question 3"
   ]
  },
  {
   "cell_type": "code",
   "execution_count": 13,
   "metadata": {},
   "outputs": [
    {
     "data": {
      "text/plain": [
       "-229010586008.01517"
      ]
     },
     "execution_count": 13,
     "metadata": {},
     "output_type": "execute_result"
    }
   ],
   "source": [
    "def question_3(df_balances):\n",
    "    \"\"\"\n",
    "    Calculate the anualized portfolio CPR (As a %) from the geometric mean SMM.\n",
    "    SMM is calculated as: (Unscheduled Principal)/(Start of Month Loan Balance)\n",
    "    SMM_mean is calculated as (∏(1+SMM))^(1/12) - 1\n",
    "    CPR is calcualted as: 1 - (1- SMM_mean)^12\n",
    "\n",
    "    Definitions: (Had Homework to do) from: https://www.investopedia.com/terms/a/amortization.asp\n",
    "    Unscheduled principal refers to any amount paid towards the principal balance of a loan that exceeds the regular, scheduled payments. \n",
    "    Scheduled Principal: This is the regular monthly payment of principal that a borrower is required to make according to the loan agreement. \n",
    "    Unscheduled Principal: This is any additional amount paid towards the principal balance beyond the scheduled payment.\n",
    "    Principle Balance: The principal balance of a loan is the outstanding amount of money you still owe, excluding interest and fees\n",
    "\n",
    "    To calculate Unsheduled Principle:\n",
    "    1. Identify the Scheduled Principal:\n",
    "    This is the regular, required amount of principal that the borrower is obligated to pay each month. - ScheduledRepayment\n",
    "    2. Identify the Actual Principal Paid:\n",
    "    This is the total amount of principal paid in the period, including any extra amounts paid beyond the scheduled amount. \n",
    "    3. Calculate the Unscheduled Principal:\n",
    "    Subtract the scheduled principal from the actual principal paid.\n",
    "\n",
    "    Args:\n",
    "        df_balances (DataFrame): Dataframe created from the 'calculate_df_balances()' function\n",
    "\n",
    "    Returns:\n",
    "        float: The anualized CPR of the loan portfolio as a percent.\n",
    "\n",
    "    \"\"\"\n",
    "    # Copying df_balances to a different frame\n",
    "    df = df_balances.copy()\n",
    "\n",
    "    # Principal Payment = Total Monthly Payment - (Outstanding Loan Balance * (Interest Rate / 12)) => InterestPayment\n",
    "    df['PrincipalPayment'] = df['ActualRepayment'] - df['InterestPayment']\n",
    "\n",
    "    # Payment towards interest is included in the sheduled montly payment\n",
    "    # Scheduled principal = scheduled total repayment - interest portion\n",
    "    df['ScheduledPrincipal'] = df['ScheduledRepayment'] - df['InterestPayment']\n",
    "\n",
    "    # Unscheduled principal = any additional payment towards principal\n",
    "    df['UnscheduledPrincipal'] = df['PrincipalPayment'] - df['ScheduledPrincipal']\n",
    "\n",
    "    # Calculate SMM\n",
    "    df['SMM'] = df['UnscheduledPrincipal'] / df['LoanBalanceStart']\n",
    "\n",
    "    # Calculate geometric mean of (1 + SMM)\n",
    "    smm_product = (1 + df['SMM']).prod()\n",
    "\n",
    "    smm_mean = smm_product ** (1 / 12) - 1\n",
    "\n",
    "    # Calculate CPR as annualized prepayment rate\n",
    "    cpr = 1 - (1 - smm_mean) ** 12\n",
    "    cpr_percent = cpr * 100\n",
    "\n",
    "    return cpr_percent\n",
    "\n",
    "question_3(df_balances)"
   ]
  },
  {
   "cell_type": "markdown",
   "metadata": {},
   "source": [
    "# Question 4"
   ]
  },
  {
   "cell_type": "code",
   "execution_count": 20,
   "metadata": {},
   "outputs": [
    {
     "data": {
      "text/plain": [
       "78365.85352799998"
      ]
     },
     "execution_count": 20,
     "metadata": {},
     "output_type": "execute_result"
    }
   ],
   "source": [
    "def question_4(df_balances):\n",
    "    \"\"\"\n",
    "    Calculate the predicted total loss for the second year in the loan term.\n",
    "    Use the equation: probability_of_default * total_loan_balance * (1 - recovery_rate).\n",
    "    The probability_of_default value must be taken from either your question_1 or question_2 answer.\n",
    "    Decide between the two answers based on which default definition you believe to be the more useful metric.\n",
    "    Assume a recovery rate of 80%\n",
    "\n",
    "    A type 1 default occurs on a loan when any scheduled monthly repayment is not met in full. - Strict, not as realistic\n",
    "    A type 2 default occurs on a loan when more than 15% of the expected total payments are unpaid for the year. - More leniant, more realistic - better picture\n",
    "\n",
    "    Args:\n",
    "        df_balances (DataFrame): Dataframe created from the 'calculate_df_balances()' function\n",
    "\n",
    "    Returns:\n",
    "        float: The predicted total loss for the second year in the loan term.\n",
    "\n",
    "    \"\"\"\n",
    "    # Calculate the total repayment required per loan per year (monthly payment * 12)\n",
    "    scheduled_total = df_balances.groupby('LoanID')['ScheduledRepayment'].first() * 12 # 12 months in a year\n",
    "\n",
    "    # Calculate the actual repayment for each loan (there are only 12 months represented in the data)\n",
    "    actual_total = df_balances.groupby('LoanID')['ActualRepayment'].sum() # Total payments\n",
    "\n",
    "    # Calculate the difference\n",
    "    unpaid = scheduled_total - actual_total\n",
    "\n",
    "    # Clip instances where actual payment exceeded scheduled - overpayed\n",
    "    unpaid = unpaid.clip(lower=0)\n",
    "\n",
    "    # Calculate for each loan the percentage unpaid\n",
    "    unpaid_percentage = (unpaid / scheduled_total) * 100\n",
    "\n",
    "    # Identify defaulted loans (Type 2) (unpaid > 15%)\n",
    "    default = unpaid_percentage > 15\n",
    "\n",
    "    # Calculate default type 2 rate as percentage\n",
    "    default_rate_percent = default.mean()\n",
    "\n",
    "    # Assume start of year 2 is equivalent to end of year 1 (It is) so use loan balance end\n",
    "    total_balance = df_balances[df_balances['Month'] == 12]['LoanBalanceEnd'].sum()\n",
    "\n",
    "    recovery_rate = 0.80\n",
    "\n",
    "    total_loss = default_rate_percent * total_balance * (1 - recovery_rate)\n",
    "\n",
    "    return total_loss\n",
    "\n",
    "question_4(df_balances)"
   ]
  },
  {
   "cell_type": "code",
   "execution_count": 8,
   "metadata": {},
   "outputs": [
    {
     "name": "stdout",
     "output_type": "stream",
     "text": [
      "<class 'pandas.core.frame.DataFrame'>\n",
      "RangeIndex: 12000 entries, 0 to 11999\n",
      "Data columns (total 9 columns):\n",
      " #   Column              Non-Null Count  Dtype  \n",
      "---  ------              --------------  -----  \n",
      " 0   RepaymentID         12000 non-null  float64\n",
      " 1   LoanID              12000 non-null  int64  \n",
      " 2   Month               12000 non-null  int64  \n",
      " 3   ActualRepayment     12000 non-null  float64\n",
      " 4   LoanAmount          12000 non-null  float64\n",
      " 5   ScheduledRepayment  12000 non-null  float64\n",
      " 6   LoanBalanceStart    12000 non-null  float64\n",
      " 7   LoanBalanceEnd      12000 non-null  float64\n",
      " 8   InterestPayment     12000 non-null  float64\n",
      "dtypes: float64(7), int64(2)\n",
      "memory usage: 843.9 KB\n",
      "None\n",
      "        RepaymentID        LoanID         Month  ActualRepayment  \\\n",
      "count  12000.000000  12000.000000  12000.000000     12000.000000   \n",
      "mean    6000.499958    500.500000      6.500000      3111.375243   \n",
      "std     3464.245967    288.687019      3.452196      1733.487004   \n",
      "min        1.000000      1.000000      1.000000         0.000000   \n",
      "25%     3000.750000    250.750000      3.750000      1707.360000   \n",
      "50%     6000.500000    500.500000      6.500000      3045.570000   \n",
      "75%     9000.250000    750.250000      9.250000      4337.620000   \n",
      "max    12000.000000   1000.000000     12.000000     11074.780000   \n",
      "\n",
      "          LoanAmount  ScheduledRepayment  LoanBalanceStart  LoanBalanceEnd  \\\n",
      "count   12000.000000        12000.000000      12000.000000    12000.000000   \n",
      "mean    64950.000000         2997.112720      50389.414333    47697.950914   \n",
      "std     31533.004311         1455.088354      26535.351045    25376.459464   \n",
      "min     13000.000000          599.880000       6137.050000     5588.310000   \n",
      "25%     37750.000000         1741.972500      27687.130000    26049.830000   \n",
      "50%     66000.000000         3045.570000      48143.295000    45369.060000   \n",
      "75%     92250.000000         4256.867500      69542.110000    65715.332500   \n",
      "max    120000.000000         5537.390000     120000.000000   115462.610000   \n",
      "\n",
      "       InterestPayment  \n",
      "count     12000.000000  \n",
      "mean        419.911757  \n",
      "std         221.128022  \n",
      "min          51.140000  \n",
      "25%         230.730000  \n",
      "50%         401.190000  \n",
      "75%         579.520000  \n",
      "max        1000.000000  \n",
      "Checking for missing vals:\n",
      " RepaymentID           0\n",
      "LoanID                0\n",
      "Month                 0\n",
      "ActualRepayment       0\n",
      "LoanAmount            0\n",
      "ScheduledRepayment    0\n",
      "LoanBalanceStart      0\n",
      "LoanBalanceEnd        0\n",
      "InterestPayment       0\n",
      "dtype: int64\n",
      "Loans with fewer than 12 months of data:\n",
      "Series([], Name: Month, dtype: int64)\n",
      "Negative LoanBalanceStart: 0\n",
      "Negative LoanBalanceEnd: 0\n",
      "   LoanID  RepaymentCount\n",
      "0       1              12\n",
      "1       2              12\n",
      "2       3              12\n",
      "3       4              12\n",
      "4       5              12\n",
      "count    1000.0\n",
      "mean       12.0\n",
      "std         0.0\n",
      "min        12.0\n",
      "25%        12.0\n",
      "50%        12.0\n",
      "75%        12.0\n",
      "max        12.0\n",
      "Name: RepaymentCount, dtype: float64\n",
      "Loans with 12 repayments: 1000\n",
      "Loans with <12 repayments: 0\n"
     ]
    }
   ],
   "source": [
    "# Basic overview\n",
    "print(df_balances.info())\n",
    "print(df_balances.describe())\n",
    "\n",
    "# Check for missing values\n",
    "print(f'Checking for missing vals:\\n {df_balances.isna().sum()}')\n",
    "\n",
    "# Loan duration analysis\n",
    "loan_months = df_balances.groupby('LoanID')['Month'].nunique()\n",
    "print(\"Loans with fewer than 12 months of data:\")\n",
    "print(loan_months[loan_months < 12])\n",
    "\n",
    "# Check if any negative balances exist\n",
    "print(\"Negative LoanBalanceStart:\", (df_balances['LoanBalanceStart'] < 0).sum())\n",
    "print(\"Negative LoanBalanceEnd:\", (df_balances['LoanBalanceEnd'] < 0).sum())\n",
    "\n",
    "\n",
    "# Check how many repayments per loanid\n",
    "repayment_counts = df_balances.groupby('LoanID').size().reset_index(name='RepaymentCount')\n",
    "\n",
    "# Preview a few\n",
    "print(repayment_counts.head())\n",
    "\n",
    "# Summary statistics\n",
    "print(repayment_counts['RepaymentCount'].describe())\n",
    "\n",
    "# Count how many loans have full 12 months of repayments\n",
    "full_loans = repayment_counts[repayment_counts['RepaymentCount'] == 12].shape[0]\n",
    "print(f\"Loans with 12 repayments: {full_loans}\")\n",
    "\n",
    "# Count loans with fewer than 12 repayments\n",
    "incomplete_loans = repayment_counts[repayment_counts['RepaymentCount'] < 12].shape[0]\n",
    "print(f\"Loans with <12 repayments: {incomplete_loans}\")"
   ]
  },
  {
   "cell_type": "code",
   "execution_count": 23,
   "metadata": {},
   "outputs": [
    {
     "data": {
      "text/plain": [
       "15.0"
      ]
     },
     "execution_count": 23,
     "metadata": {},
     "output_type": "execute_result"
    }
   ],
   "source": [
    "py.question_1(df_balances)"
   ]
  },
  {
   "cell_type": "code",
   "execution_count": 25,
   "metadata": {},
   "outputs": [
    {
     "data": {
      "text/plain": [
       "1.2"
      ]
     },
     "execution_count": 25,
     "metadata": {},
     "output_type": "execute_result"
    }
   ],
   "source": [
    "py.question_2(df_scheduled,df_balances)"
   ]
  },
  {
   "cell_type": "code",
   "execution_count": 26,
   "metadata": {},
   "outputs": [
    {
     "data": {
      "text/plain": [
       "-229010586008.01517"
      ]
     },
     "execution_count": 26,
     "metadata": {},
     "output_type": "execute_result"
    }
   ],
   "source": [
    "py.question_3(df_balances)"
   ]
  },
  {
   "cell_type": "code",
   "execution_count": 27,
   "metadata": {},
   "outputs": [
    {
     "data": {
      "text/plain": [
       "78365.85352799998"
      ]
     },
     "execution_count": 27,
     "metadata": {},
     "output_type": "execute_result"
    }
   ],
   "source": [
    "py.question_4(df_balances)"
   ]
  },
  {
   "cell_type": "code",
   "execution_count": null,
   "metadata": {},
   "outputs": [],
   "source": []
  }
 ],
 "metadata": {
  "kernelspec": {
   "display_name": "Python 3 (ipykernel)",
   "language": "python",
   "name": "python3"
  },
  "language_info": {
   "codemirror_mode": {
    "name": "ipython",
    "version": 3
   },
   "file_extension": ".py",
   "mimetype": "text/x-python",
   "name": "python",
   "nbconvert_exporter": "python",
   "pygments_lexer": "ipython3",
   "version": "3.10.17"
  }
 },
 "nbformat": 4,
 "nbformat_minor": 4
}
